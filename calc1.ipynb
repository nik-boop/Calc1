{
 "cells": [
  {
   "cell_type": "code",
   "execution_count": 0,
   "metadata": {
    "collapsed": false
   },
   "outputs": [
   ],
   "source": [
    "import re\n",
    "\n",
    "def inp(m = 0):\n",
    "\n",
    "             #Проверка IP и маски\n",
    "    s = str()\n",
    "    ip = input() \n",
    "    ip.strip\n",
    "    if re.search(f'[^0-9.]',ip):\n",
    "        return \"Неверно введенный IP\"\n",
    "    ip = re.split(f'\\.', ip)\n",
    "    if len(ip)!=4:\n",
    "        return \"Слишком блинный или короткий IP или маска\"\n",
    "    if \"\" in ip:\n",
    "        return 'Пропущена часть IP адреса или маски'\n",
    "    for i in ip:\n",
    "        if int(i)>255:\n",
    "            return \"Слишком большие значения IP адреса или маски\"\n",
    "\n",
    "            #Представление IP и маски в двоичном виде для проверки\n",
    "    for i in ip:\n",
    "        s+=(\"0\"*(8-len(format(int(i), 'b')))+format(int(i), 'b'))\n",
    "    if m == 1 and re.search(f'01',s):\n",
    "        return \"Неверно введенная маска\"\n",
    "    return (ip)\n",
    "\n",
    "            #Ввод IP и маски\n",
    "print(\"Введите IP адрес\")\n",
    "a = inp()\n",
    "while type(a) == str:\n",
    "    print(a)\n",
    "    a = inp()\n",
    "ip = a\n",
    "\n",
    "print(\"Введите маску\")\n",
    "a = inp()\n",
    "while type(a) == str:\n",
    "    print(a)\n",
    "    a = inp()\n",
    "m = a\n",
    "\n",
    "             #Определение адреса сети и его представления в двоичном виде\n",
    "net = list()\n",
    "for i in range(len(ip)):\n",
    "    net.append(int(ip[i])&int(m[i]))\n",
    "\n",
    "for i in net:\n",
    "    neto += (\"0\"*(8-len(format(int(i), 'b')))+format(int(i), 'b'))\n",
    "neto = \"\"\n",
    "for i in net:\n",
    "    neto += (\"0\"*(8-len(format(i, 'b')))+format(i, 'b'))\n",
    "\n",
    "            #Определение класса сети\n",
    "if re.search(f'^0',neto):\n",
    "    clas = \"A\"\n",
    "elif re.search(f'^10',neto):\n",
    "    clas = \"B\"\n",
    "elif re.search(f'^110',neto):\n",
    "    clas = \"C\"\n",
    "elif re.search(f'^1110',neto):\n",
    "    clas = \"D\"\n",
    "elif re.search(f'^1111',neto):\n",
    "    clas = \"E\"\n",
    "\n",
    "             #Вывод информации\n",
    "print(\"Адрес в двоичной системе счисления:\",neto)\n",
    "\n",
    "neto = \"\"\n",
    "for i in range(len(net)):\n",
    "    if i<3:\n",
    "        neto += str(net[i])+ \".\"\n",
    "    else:\n",
    "        neto += str(net[i])\n",
    "\n",
    "print(\"Адрес в десятичной системе счисления:\",n)\n",
    "print('Класс сети:',clas)"
   ]
  }
 ],
 "metadata": {
  "kernelspec": {
   "display_name": "Python 3 (system-wide)",
   "language": "python",
   "metadata": {
    "cocalc": {
     "description": "Python 3 programming language",
     "priority": 100,
     "url": "https://www.python.org/"
    }
   },
   "name": "python3",
   "resource_dir": "/ext/jupyter/kernels/python3"
  },
  "language_info": {
   "codemirror_mode": {
    "name": "ipython",
    "version": 3
   },
   "file_extension": ".py",
   "mimetype": "text/x-python",
   "name": "python",
   "nbconvert_exporter": "python",
   "pygments_lexer": "ipython3",
   "version": "3.8.5"
  }
 },
 "nbformat": 4,
 "nbformat_minor": 4
}